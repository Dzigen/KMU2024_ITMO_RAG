{
 "cells": [
  {
   "cell_type": "code",
   "execution_count": 4,
   "metadata": {},
   "outputs": [],
   "source": [
    "import sys\n",
    "sys.path.insert(0, \"/home/dzigen/Desktop/ITMO/ВКР/КМУ2024/inference.ipynb\")\n",
    "\n",
    "from src.retrievers.bm25colbert import BM25ColBertRetriever\n",
    "from src.retrievers.bm25e5 import BM25E5Retriever\n",
    "from src.readers.fid import FiDReader\n",
    "from src.retrievers.e5 import E5Retriever\n",
    "\n",
    "import torch\n",
    "from tqdm import tqdm"
   ]
  },
  {
   "cell_type": "code",
   "execution_count": null,
   "metadata": {},
   "outputs": [],
   "source": [
    "TUNED_READER_PATH = '/home/dzigen/Desktop/ITMO/ВКР/КМУ2024/logs/reader_fid_squad/bestmodel.pt'\n",
    "BASE_PATH = '/home/dzigen/Desktop/ITMO/ВКР/КМУ2024/data/bases/scipdf_bm25_base.pkl'\n",
    "READER_INPUT_FORMAT = \"context: {c}\\n\\nquestion: {q}\"\n",
    "READER_GEN_ML = 64\n",
    "\n",
    "QUESTIONS = [\n",
    "    \"What is a RETRO approach\",\n",
    "    \"What is a kNN-LM approach\",\n",
    "    \"What is a DPR approach\",\n",
    "    \"What is a RAG approach\",\n",
    "    \"What is a FiD approach\",\n",
    "    \"What is a EMDR2 approach\",\n",
    "    \"What is a Atlas approach\",\n",
    "    \"What is a REPLUG approach\",\n",
    "    \"What is a ColBERT approach\"\n",
    "]"
   ]
  },
  {
   "cell_type": "code",
   "execution_count": null,
   "metadata": {},
   "outputs": [],
   "source": [
    "def inference(reader, retriever, queries):\n",
    "    answers = []\n",
    "    for query in tqdm(queries):\n",
    "        print(\"QUERY: \", query)\n",
    "        texts, k_scores, metadata = retriever.search(query)\n",
    "\n",
    "        print(\"CONTEXTS:\\n\", '\\n\\n'.join(texts))\n",
    "\n",
    "        formated_txts = list(map(\n",
    "            lambda t: READER_INPUT_FORMAT.format(q=query,c=t), texts))\n",
    "\n",
    "        tokenized_txts = reader.tokenize(formated_txts)\n",
    "        \n",
    "        cands_k = len(texts)\n",
    "\n",
    "        # Generating Answers by predicted indices\n",
    "        output = reader.model.generate(\n",
    "            input_ids=tokenized_txts['input_ids'].view(1, cands_k, -1),\n",
    "            attention_mask=tokenized_txts['attention_mask'].view(1, cands_k, -1), \n",
    "            max_length=READER_GEN_ML, eos_token_id=reader.tokenizer.eos_token_id)\n",
    "        \n",
    "        predicted = reader.tokenizer.batch_decode(output, skip_special_tokens=True)\n",
    "        answers += predicted\n",
    "\n",
    "        print(\"ANSWER: \", predicted[0])\n",
    "\n",
    "    return answers"
   ]
  },
  {
   "cell_type": "code",
   "execution_count": null,
   "metadata": {},
   "outputs": [],
   "source": [
    "reader = FiDReader()\n",
    "reader.load_model(TUNED_READER_PATH)"
   ]
  },
  {
   "cell_type": "markdown",
   "metadata": {},
   "source": [
    "#### E5 + FID"
   ]
  },
  {
   "cell_type": "code",
   "execution_count": null,
   "metadata": {},
   "outputs": [],
   "source": [
    "TUNED_RETRIEVER_PATH = ''\n",
    "\n",
    "colb_retriever = E5Retriever()\n",
    "colb_retriever.load_model(TUNED_RETRIEVER_PATH)\n",
    "colb_retriever.load_base(BASE_PATH)"
   ]
  },
  {
   "cell_type": "markdown",
   "metadata": {},
   "source": [
    "#### BM25ColBERT + FID"
   ]
  },
  {
   "cell_type": "code",
   "execution_count": null,
   "metadata": {},
   "outputs": [],
   "source": [
    "TUNED_RETRIEVER_PATH = ''\n",
    "\n",
    "colb_retriever = BM25ColBertRetriever()\n",
    "colb_retriever.load_model(TUNED_RETRIEVER_PATH)\n",
    "colb_retriever.load_base(BASE_PATH)"
   ]
  },
  {
   "cell_type": "code",
   "execution_count": null,
   "metadata": {},
   "outputs": [],
   "source": [
    "inference(reader, colb_retriever, QUESTIONS)"
   ]
  },
  {
   "cell_type": "markdown",
   "metadata": {},
   "source": [
    "#### BM25E5 + FID"
   ]
  },
  {
   "cell_type": "code",
   "execution_count": null,
   "metadata": {},
   "outputs": [],
   "source": [
    "TUNED_RETRIEVER_PATH = ''\n",
    "\n",
    "e5_retriever = BM25ColBertRetriever()\n",
    "e5_retriever.load_model(TUNED_RETRIEVER_PATH)\n",
    "e5_retriever.load_base(BASE_PATH)"
   ]
  },
  {
   "cell_type": "code",
   "execution_count": null,
   "metadata": {},
   "outputs": [],
   "source": [
    "inference(reader, e5_retriever, QUESTIONS)"
   ]
  }
 ],
 "metadata": {
  "kernelspec": {
   "display_name": "base",
   "language": "python",
   "name": "python3"
  },
  "language_info": {
   "codemirror_mode": {
    "name": "ipython",
    "version": 3
   },
   "file_extension": ".py",
   "mimetype": "text/x-python",
   "name": "python",
   "nbconvert_exporter": "python",
   "pygments_lexer": "ipython3",
   "version": "3.11.4"
  }
 },
 "nbformat": 4,
 "nbformat_minor": 2
}
