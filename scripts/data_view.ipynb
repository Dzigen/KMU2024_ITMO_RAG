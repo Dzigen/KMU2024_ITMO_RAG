{
 "cells": [
  {
   "cell_type": "code",
   "execution_count": 15,
   "metadata": {},
   "outputs": [],
   "source": [
    "import pandas as pd\n",
    "import sys\n",
    "import torch\n",
    "from datasets import Dataset\n",
    "from torch.utils.data import DataLoader\n",
    "import torch.nn.functional as F\n",
    "\n",
    "sys.path.insert(0, '/home/dzigen/Desktop/ITMO/ВКР/КМУ2024')\n",
    "\n",
    "from src.readers.fid import FiDReader\n",
    "from src.retrievers.bm25colbert import BM25ColBertRetriever"
   ]
  },
  {
   "cell_type": "code",
   "execution_count": 9,
   "metadata": {},
   "outputs": [
    {
     "name": "stdout",
     "output_type": "stream",
     "text": [
      "Loading base ColBERT-model...\n"
     ]
    },
    {
     "name": "stderr",
     "output_type": "stream",
     "text": [
      "Some weights of RobertaModel were not initialized from the model checkpoint at FacebookAI/roberta-base and are newly initialized: ['roberta.pooler.dense.bias', 'roberta.pooler.dense.weight']\n",
      "You should probably TRAIN this model on a down-stream task to be able to use it for predictions and inference.\n"
     ]
    }
   ],
   "source": [
    "retriever = BM25ColBertRetriever(mode='train')"
   ]
  },
  {
   "cell_type": "code",
   "execution_count": 12,
   "metadata": {},
   "outputs": [
    {
     "data": {
      "text/plain": [
       "tensor(0.3133)"
      ]
     },
     "execution_count": 12,
     "metadata": {},
     "output_type": "execute_result"
    }
   ],
   "source": [
    "retriever.loss(input)"
   ]
  },
  {
   "cell_type": "code",
   "execution_count": 25,
   "metadata": {},
   "outputs": [],
   "source": [
    "import pandas as pd"
   ]
  },
  {
   "cell_type": "code",
   "execution_count": null,
   "metadata": {},
   "outputs": [],
   "source": [
    "class CustomTriviaQADataset(Dataset):\n",
    "    def __init__(self):\n",
    "        pass\n",
    "\n",
    "    def __len__(self):\n",
    "        pass\n",
    "\n",
    "    def __getitem__(self,idx):\n",
    "        pass\n",
    "\n",
    "    def __getitems__(self, idxs):\n",
    "        pass\n",
    "\n",
    "def retriever_collate(data):\n",
    "    pass"
   ]
  },
  {
   "cell_type": "code",
   "execution_count": 24,
   "metadata": {},
   "outputs": [],
   "source": [
    "triviaqa_path = \"/home/dzigen/Desktop/ITMO/ВКР/КМУ2024/data/retireve_eval/msmarco/qrels\""
   ]
  },
  {
   "cell_type": "code",
   "execution_count": 28,
   "metadata": {},
   "outputs": [],
   "source": [
    "train_df = pd.read_csv(triviaqa_path+'/train.tsv', sep='\\t')\n",
    "dev_df = pd.read_csv(triviaqa_path+'/dev.tsv', sep='\\t')\n",
    "test_df = pd.read_csv(triviaqa_path+'/test.tsv', sep='\\t')"
   ]
  },
  {
   "cell_type": "code",
   "execution_count": 39,
   "metadata": {},
   "outputs": [
    {
     "data": {
      "text/plain": [
       "'</s>'"
      ]
     },
     "execution_count": 39,
     "metadata": {},
     "output_type": "execute_result"
    }
   ],
   "source": [
    "reader.tokenizer.eos_token"
   ]
  },
  {
   "cell_type": "code",
   "execution_count": 37,
   "metadata": {},
   "outputs": [
    {
     "name": "stdout",
     "output_type": "stream",
     "text": [
      "(532751, 3) [1] | 516472 502939\n",
      "(9260, 3) [0 1 2 3] | 9139 43\n",
      "(7437, 3) [1] | 7433 6980\n"
     ]
    }
   ],
   "source": [
    "print(train_df.shape,train_df['score'].unique(),\"|\",len(train_df['corpus-id'].unique()), len(train_df['query-id'].unique()))\n",
    "print(test_df.shape,test_df['score'].unique(),\"|\",len(test_df['corpus-id'].unique()), len(test_df['query-id'].unique()))\n",
    "print(dev_df.shape,dev_df['score'].unique(),\"|\",len(dev_df['corpus-id'].unique()), len(dev_df['query-id'].unique()))"
   ]
  },
  {
   "cell_type": "code",
   "execution_count": null,
   "metadata": {},
   "outputs": [],
   "source": []
  }
 ],
 "metadata": {
  "kernelspec": {
   "display_name": "base",
   "language": "python",
   "name": "python3"
  },
  "language_info": {
   "codemirror_mode": {
    "name": "ipython",
    "version": 3
   },
   "file_extension": ".py",
   "mimetype": "text/x-python",
   "name": "python",
   "nbconvert_exporter": "python",
   "pygments_lexer": "ipython3",
   "version": "3.11.4"
  }
 },
 "nbformat": 4,
 "nbformat_minor": 2
}
