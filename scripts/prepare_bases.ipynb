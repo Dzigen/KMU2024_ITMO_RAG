{
 "cells": [
  {
   "cell_type": "code",
   "execution_count": 1,
   "metadata": {},
   "outputs": [],
   "source": [
    "import sys\n",
    "sys.path.insert(0, \"/home/dzigen/Desktop/ITMO/ВКР/КМУ2024/\")\n",
    "\n",
    "from src.retrievers.e5 import E5Retriever\n",
    "from src.retrievers.bm25e5 import BM25E5Retriever\n",
    "from src.retrievers.bm25colbert import BM25ColBertRetriever\n",
    "\n",
    "import pandas as pd\n",
    "from tqdm import tqdm"
   ]
  },
  {
   "cell_type": "code",
   "execution_count": 2,
   "metadata": {},
   "outputs": [],
   "source": [
    "SQUAD_DATASET_DIR = '/home/dzigen/Desktop/ITMO/ВКР/КМУ2024/data/SQuAD'\n",
    "SQAUD_TRAIN_FILE = f'{SQUAD_DATASET_DIR}/train.csv'\n",
    "SQAUD_VAL_FILE = f'{SQUAD_DATASET_DIR}/validation.csv'\n",
    "\n",
    "def prepare_squad():\n",
    "    squad_train_df = pd.read_csv(SQAUD_TRAIN_FILE, sep=';')\n",
    "    squad_val_df = pd.read_csv(SQAUD_VAL_FILE, sep=';')\n",
    "    union_df = pd.concat([squad_train_df, squad_val_df]).reset_index(drop=True)\n",
    "    union_df = union_df.drop_duplicates(subset=['in_base_index']).reset_index(drop=True)\n",
    "\n",
    "    texts = []\n",
    "    metadata = []\n",
    "\n",
    "    for i in range(union_df.shape[0]):\n",
    "        texts.append(union_df['context'][i])\n",
    "        metadata.append({'in_base_index': union_df['in_base_index'][i]})\n",
    "\n",
    "    return texts, metadata"
   ]
  },
  {
   "cell_type": "markdown",
   "metadata": {},
   "source": [
    "#### Нумеруем уникальные пасажи в squad-датасете"
   ]
  },
  {
   "cell_type": "code",
   "execution_count": null,
   "metadata": {},
   "outputs": [],
   "source": [
    "squad_train_df = pd.read_csv(SQAUD_TRAIN_FILE, sep=';')\n",
    "squad_val_df = pd.read_csv(SQAUD_VAL_FILE, sep=';')"
   ]
  },
  {
   "cell_type": "code",
   "execution_count": null,
   "metadata": {},
   "outputs": [],
   "source": [
    "unique_cntxs = list(set(squad_train_df['context'].to_list()).union(set(squad_val_df['context'].to_list())))"
   ]
  },
  {
   "cell_type": "code",
   "execution_count": null,
   "metadata": {},
   "outputs": [],
   "source": [
    "cntxs_idxs = list(range(len(unique_cntxs)))"
   ]
  },
  {
   "cell_type": "code",
   "execution_count": null,
   "metadata": {},
   "outputs": [],
   "source": [
    "for part_df in [squad_train_df, squad_val_df]:\n",
    "    tmp_idxs = []\n",
    "    for i in tqdm(range(part_df.shape[0])):\n",
    "        cur_cntx = part_df['context'][i]\n",
    "        cntx_idx = unique_cntxs.index(cur_cntx)\n",
    "        tmp_idxs.append(cntx_idx)\n",
    "    part_df['in_base_index'] = tmp_idxs"
   ]
  },
  {
   "cell_type": "code",
   "execution_count": null,
   "metadata": {},
   "outputs": [],
   "source": [
    "squad_train_df.to_csv(SQAUD_TRAIN_FILE, sep=';', index=False)\n",
    "squad_val_df.to_csv(SQAUD_VAL_FILE, sep=';', index=False)"
   ]
  },
  {
   "cell_type": "markdown",
   "metadata": {},
   "source": [
    "# For Joint Tuning"
   ]
  },
  {
   "cell_type": "markdown",
   "metadata": {},
   "source": [
    "#### E5 base (squad)"
   ]
  },
  {
   "cell_type": "code",
   "execution_count": 3,
   "metadata": {},
   "outputs": [],
   "source": [
    "E5FROZEN_BASE = '../data/bases/e5_squad_base'"
   ]
  },
  {
   "cell_type": "code",
   "execution_count": 4,
   "metadata": {},
   "outputs": [
    {
     "name": "stdout",
     "output_type": "stream",
     "text": [
      "Loading E5-model...\n"
     ]
    }
   ],
   "source": [
    "retriever = E5Retriever(device='cuda')\n",
    "texts, metadata = prepare_squad()"
   ]
  },
  {
   "cell_type": "code",
   "execution_count": null,
   "metadata": {},
   "outputs": [],
   "source": [
    "retriever.make_base(texts, metadata, E5FROZEN_BASE)"
   ]
  },
  {
   "cell_type": "code",
   "execution_count": 5,
   "metadata": {},
   "outputs": [],
   "source": [
    "retriever.load_base(E5FROZEN_BASE)"
   ]
  },
  {
   "cell_type": "code",
   "execution_count": 7,
   "metadata": {},
   "outputs": [
    {
     "name": "stdout",
     "output_type": "stream",
     "text": [
      "Retrieving documents with E5...\n",
      "Filtering irrelevant document by threshold...\n"
     ]
    }
   ],
   "source": [
    "result = retriever.search(\"query: Who is beyonce?\")"
   ]
  },
  {
   "cell_type": "code",
   "execution_count": 8,
   "metadata": {},
   "outputs": [
    {
     "name": "stdout",
     "output_type": "stream",
     "text": [
      "scores:\n",
      "['passage: Beyoncé Giselle Knowles-Carter (/biːˈjɒnseɪ/ bee-YON-say) (born September 4, 1981) is an American singer, songwriter, record producer and actress. Born and raised in Houston, Texas, she performed in various singing and dancing competitions as a child, and rose to fame in the late 1990s as lead singer of R&B girl-group Destiny\\'s Child. Managed by her father, Mathew Knowles, the group became one of the world\\'s best-selling girl groups of all time. Their hiatus saw the release of Beyoncé\\'s debut album, Dangerously in Love (2003), which established her as a solo artist worldwide, earned five Grammy Awards and featured the Billboard Hot 100 number-one singles \"Crazy in Love\" and \"Baby Boy\".'\n",
      " 'passage: Beyoncé Giselle Knowles was born in Houston, Texas, to Celestine Ann \"Tina\" Knowles (née Beyincé), a hairdresser and salon owner, and Mathew Knowles, a Xerox sales manager. Beyoncé\\'s name is a tribute to her mother\\'s maiden name. Beyoncé\\'s younger sister Solange is also a singer and a former member of Destiny\\'s Child. Mathew is African-American, while Tina is of Louisiana Creole descent (with African, Native American, French, Cajun, and distant Irish and Spanish ancestry). Through her mother, Beyoncé is a descendant of Acadian leader Joseph Broussard. She was raised in a Methodist household.'\n",
      " 'passage: A self-described \"modern-day feminist\", Beyoncé creates songs that are often characterized by themes of love, relationships, and monogamy, as well as female sexuality and empowerment. On stage, her dynamic, highly choreographed performances have led to critics hailing her as one of the best entertainers in contemporary popular music. Throughout a career spanning 19 years, she has sold over 118 million records as a solo artist, and a further 60 million with Destiny\\'s Child, making her one of the best-selling music artists of all time. She has won 20 Grammy Awards and is the most nominated woman in the award\\'s history. The Recording Industry Association of America recognized her as the Top Certified Artist in America during the 2000s decade. In 2009, Billboard named her the Top Radio Songs Artist of the Decade, the Top Female Artist of the 2000s and their Artist of the Millennium in 2011. Time listed her among the 100 most influential people in the world in 2013 and 2014. Forbes magazine also listed her as the most powerful female musician of 2015.'\n",
      " 'passage: Following the disbandment of Destiny\\'s Child in June 2005, she released her second solo album, B\\'Day (2006), which contained hits \"Déjà Vu\", \"Irreplaceable\", and \"Beautiful Liar\". Beyoncé also ventured into acting, with a Golden Globe-nominated performance in Dreamgirls (2006), and starring roles in The Pink Panther (2006) and Obsessed (2009). Her marriage to rapper Jay Z and portrayal of Etta James in Cadillac Records (2008) influenced her third album, I Am... Sasha Fierce (2008), which saw the birth of her alter-ego Sasha Fierce and earned a record-setting six Grammy Awards in 2010, including Song of the Year for \"Single Ladies (Put a Ring on It)\". Beyoncé took a hiatus from music in 2010 and took over management of her career; her fourth album 4 (2011) was subsequently mellower in tone, exploring 1970s funk, 1980s pop, and 1990s soul. Her critically acclaimed fifth studio album, Beyoncé (2013), was distinguished from previous releases by its experimental production and exploration of darker themes.'\n",
      " 'passage: Beyoncé has stated that she is personally inspired by US First Lady Michelle Obama, saying \"She proves you can do it all\" and she has described Oprah Winfrey as \"the definition of inspiration and a strong woman\". She has also discussed how Jay Z is a continuing inspiration to her, both with what she describes as his lyrical genius and in the obstacles he has overcome in his life. Beyoncé has expressed admiration for the artist Jean-Michel Basquiat, posting in a letter \"what I find in the work of Jean-Michel Basquiat, I search for in every day in music... he is lyrical and raw\". In February 2013, Beyoncé said that Madonna inspired her to take control of her own career. She commented: \"I think about Madonna and how she took all of the great things she achieved and started the label and developed other artists. But there are not enough of those women.\".']\n",
      "passages: \n",
      "[0.2625013  0.30767596 0.31915134 0.31970906 0.34334472]\n"
     ]
    }
   ],
   "source": [
    "print(\"scores:\")\n",
    "print(result[0])\n",
    "print(\"passages: \")\n",
    "print(result[1])"
   ]
  },
  {
   "cell_type": "markdown",
   "metadata": {},
   "source": [
    "#### BM25+Colbert base (squad)"
   ]
  },
  {
   "cell_type": "code",
   "execution_count": 3,
   "metadata": {},
   "outputs": [],
   "source": [
    "BM25COLBERT_BASE = '../data/bases/bm25colbert_squad_base'"
   ]
  },
  {
   "cell_type": "code",
   "execution_count": 4,
   "metadata": {},
   "outputs": [
    {
     "name": "stdout",
     "output_type": "stream",
     "text": [
      "Loading base ColBERT-model...\n"
     ]
    },
    {
     "name": "stderr",
     "output_type": "stream",
     "text": [
      "Some weights of RobertaModel were not initialized from the model checkpoint at FacebookAI/roberta-base and are newly initialized: ['roberta.pooler.dense.bias', 'roberta.pooler.dense.weight']\n",
      "You should probably TRAIN this model on a down-stream task to be able to use it for predictions and inference.\n"
     ]
    }
   ],
   "source": [
    "retriever = BM25ColBertRetriever()\n",
    "texts, metadata = prepare_squad()"
   ]
  },
  {
   "cell_type": "code",
   "execution_count": null,
   "metadata": {},
   "outputs": [],
   "source": [
    "retriever.make_bm25_base(texts, metadata, BM25COLBERT_BASE)"
   ]
  },
  {
   "cell_type": "code",
   "execution_count": 5,
   "metadata": {},
   "outputs": [
    {
     "name": "stdout",
     "output_type": "stream",
     "text": [
      "Loading precomputed base...\n"
     ]
    }
   ],
   "source": [
    "retriever.load_bm25_base(BM25COLBERT_BASE)"
   ]
  },
  {
   "cell_type": "code",
   "execution_count": 6,
   "metadata": {},
   "outputs": [
    {
     "name": "stdout",
     "output_type": "stream",
     "text": [
      "Retrieving documents with BM25...\n",
      "Re-ranking documents with ColBERT...\n"
     ]
    },
    {
     "name": "stderr",
     "output_type": "stream",
     "text": [
      "100%|██████████| 63/63 [01:51<00:00,  1.77s/it]"
     ]
    },
    {
     "name": "stdout",
     "output_type": "stream",
     "text": [
      "Filtering irrelevant document by threshold...\n"
     ]
    },
    {
     "name": "stderr",
     "output_type": "stream",
     "text": [
      "\n"
     ]
    }
   ],
   "source": [
    "result = retriever.search(\"query: Who is beyonce?\")"
   ]
  },
  {
   "cell_type": "code",
   "execution_count": 7,
   "metadata": {},
   "outputs": [
    {
     "name": "stdout",
     "output_type": "stream",
     "text": [
      "scores: \n",
      "['passage: Beyoncé Giselle Knowles was born in Houston, Texas, to Celestine Ann \"Tina\" Knowles (née Beyincé), a hairdresser and salon owner, and Mathew Knowles, a Xerox sales manager. Beyoncé\\'s name is a tribute to her mother\\'s maiden name. Beyoncé\\'s younger sister Solange is also a singer and a former member of Destiny\\'s Child. Mathew is African-American, while Tina is of Louisiana Creole descent (with African, Native American, French, Cajun, and distant Irish and Spanish ancestry). Through her mother, Beyoncé is a descendant of Acadian leader Joseph Broussard. She was raised in a Methodist household.'\n",
      " 'passage: On the northern outskirts of the city, Crownhill Fort is a well restored example of a \"Palmerston\\'s Folly\". It is owned by the Landmark Trust and is open to the public.'\n",
      " \"passage: New Haven was the subject of Who Governs? Democracy and Power in An American City, a very influential book in political science by preeminent Yale professor Robert A. Dahl, which includes an extensive history of the city and thorough description of its politics in the 1950s. New Haven's theocratic history is also mentioned several times by Alexis de Tocqueville in his classic volume on 19th-century American political life, Democracy in America. New Haven was the residence of conservative thinker William F. Buckley, Jr., in 1951, when he wrote his influential God and Man at Yale. William Lee Miller's The Fifteenth Ward and the Great Society (1966) similarly explores the relationship between local politics in New Haven and national political movements, focusing on Lyndon Johnson's Great Society and urban renewal.\"\n",
      " 'passage: Consent is also invalid if it is given by a representative who ignored restrictions he is subject to by his sovereign during the negotiations, if the other parties to the treaty were notified of those restrictions prior to his signing.[citation needed]']\n",
      "passages: \n",
      "tensor([9.3611, 9.3572, 9.3533, 9.3533])\n"
     ]
    }
   ],
   "source": [
    "print(\"scores: \")\n",
    "print(result[0])\n",
    "print(\"passages: \")\n",
    "print(result[1])"
   ]
  },
  {
   "cell_type": "markdown",
   "metadata": {},
   "source": [
    "#### BM25+E5 base (squad)"
   ]
  },
  {
   "cell_type": "code",
   "execution_count": 3,
   "metadata": {},
   "outputs": [],
   "source": [
    "BM25E5_BASE = '../data/bases/bm25E5_squad_base'"
   ]
  },
  {
   "cell_type": "code",
   "execution_count": 4,
   "metadata": {},
   "outputs": [
    {
     "name": "stdout",
     "output_type": "stream",
     "text": [
      "Loading base E5-model...\n"
     ]
    }
   ],
   "source": [
    "retriever = BM25E5Retriever()\n",
    "texts, metadata = prepare_squad()"
   ]
  },
  {
   "cell_type": "code",
   "execution_count": null,
   "metadata": {},
   "outputs": [],
   "source": [
    "retriever.make_bm25_base(texts, metadata, BM25E5_BASE)"
   ]
  },
  {
   "cell_type": "code",
   "execution_count": 5,
   "metadata": {},
   "outputs": [
    {
     "name": "stdout",
     "output_type": "stream",
     "text": [
      "Loading precomputed base...\n"
     ]
    }
   ],
   "source": [
    "retriever.load_bm25_base(BM25E5_BASE)"
   ]
  },
  {
   "cell_type": "code",
   "execution_count": 6,
   "metadata": {},
   "outputs": [
    {
     "name": "stdout",
     "output_type": "stream",
     "text": [
      "Retrieving documents with BM25...\n",
      "Re-ranking documents with E5...\n"
     ]
    },
    {
     "name": "stderr",
     "output_type": "stream",
     "text": [
      "  0%|          | 0/63 [00:00<?, ?it/s]"
     ]
    },
    {
     "name": "stderr",
     "output_type": "stream",
     "text": [
      "100%|██████████| 63/63 [01:58<00:00,  1.88s/it]"
     ]
    },
    {
     "name": "stdout",
     "output_type": "stream",
     "text": [
      "Filtering irrelevant document by threshold...\n"
     ]
    },
    {
     "name": "stderr",
     "output_type": "stream",
     "text": [
      "\n"
     ]
    }
   ],
   "source": [
    "result = retriever.search(\"query: Who is beyonce?\")"
   ]
  },
  {
   "cell_type": "code",
   "execution_count": 7,
   "metadata": {},
   "outputs": [
    {
     "name": "stdout",
     "output_type": "stream",
     "text": [
      "scores: \n",
      "['passage: Beyoncé Giselle Knowles was born in Houston, Texas, to Celestine Ann \"Tina\" Knowles (née Beyincé), a hairdresser and salon owner, and Mathew Knowles, a Xerox sales manager. Beyoncé\\'s name is a tribute to her mother\\'s maiden name. Beyoncé\\'s younger sister Solange is also a singer and a former member of Destiny\\'s Child. Mathew is African-American, while Tina is of Louisiana Creole descent (with African, Native American, French, Cajun, and distant Irish and Spanish ancestry). Through her mother, Beyoncé is a descendant of Acadian leader Joseph Broussard. She was raised in a Methodist household.'\n",
      " \"passage: Some biographical accounts include the autobiography Life on the Color Line: The True Story of a White Boy Who Discovered He Was Black by Gregory Howard Williams; One Drop: My Father's Hidden Life—A Story of Race and Family Secrets written by Bliss Broyard about her father Anatole Broyard; the documentary Colored White Boy about a white man in North Carolina who discovers that he is the descendant of a white plantation owner and a raped African slave; and the documentary on The Sanders Women of Shreveport, Louisiana.\"\n",
      " 'passage: The Swingle Singers used nonsense words to sound like instruments, but have been known to produce non-verbal versions of musical instruments. Like the other groups, examples of their music can be found on YouTube. Beatboxing, more accurately known as vocal percussion, is a technique used in a cappella music popularized by the hip-hop community, where rap is often performed a cappella also. The advent of vocal percussion added new dimensions to the a cappella genre and has become very prevalent in modern arrangements. Petra Haden used a four-track recorder to produce an a cappella version of The Who Sell Out including the instruments and fake advertisements on her album Petra Haden Sings: The Who Sell Out in 2005. Haden has also released a cappella versions of Journey\\'s \"Don\\'t Stop Believin\\'\", The Beach Boys\\' \"God Only Knows\" and Michael Jackson\\'s \"Thriller\". In 2009, Toyota commissioned Haden to perform three songs for television commercials for the third-generation Toyota Prius, including an a cappella version of The Bellamy Brothers\\' 1970s song \"Let Your Love Flow\".[citation needed]'\n",
      " \"passage: Tibet (i/tᵻˈbɛt/; Wylie: Bod, pronounced [pʰø̀ʔ]; Chinese: 西藏; pinyin: Xīzàng) is a region on the Tibetan Plateau in Asia. It is the traditional homeland of the Tibetan people as well as some other ethnic groups such as Monpa, Qiang and Lhoba peoples and is now also inhabited by considerable numbers of Han Chinese and Hui people. Tibet is the highest region on Earth, with an average elevation of 4,900 metres (16,000 ft). The highest elevation in Tibet is Mount Everest, earth's highest mountain rising 8,848 m (29,029 ft) above sea level.\"]\n",
      "passages: \n",
      "tensor([0.8453, 0.7506, 0.7407, 0.7353])\n"
     ]
    }
   ],
   "source": [
    "print(\"scores: \")\n",
    "print(result[0])\n",
    "print(\"passages: \")\n",
    "print(result[1])"
   ]
  }
 ],
 "metadata": {
  "kernelspec": {
   "display_name": "base",
   "language": "python",
   "name": "python3"
  },
  "language_info": {
   "codemirror_mode": {
    "name": "ipython",
    "version": 3
   },
   "file_extension": ".py",
   "mimetype": "text/x-python",
   "name": "python",
   "nbconvert_exporter": "python",
   "pygments_lexer": "ipython3",
   "version": "3.11.4"
  }
 },
 "nbformat": 4,
 "nbformat_minor": 2
}
