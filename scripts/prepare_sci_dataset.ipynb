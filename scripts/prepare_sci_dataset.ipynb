{
 "cells": [
  {
   "cell_type": "code",
   "execution_count": 31,
   "metadata": {},
   "outputs": [],
   "source": [
    "import fitz\n",
    "import re\n",
    "import nltk.data\n",
    "import os\n",
    "from functools import reduce\n",
    "import pandas as pd\n",
    "from tqdm import tqdm\n",
    "import gc\n",
    "import pickle\n",
    "\n",
    "from langchain_community.retrievers import BM25Retriever\n",
    "from langchain_core.documents import Document\n",
    "\n",
    "tokenizer = nltk.data.load('tokenizers/punkt/english.pickle')"
   ]
  },
  {
   "cell_type": "code",
   "execution_count": 7,
   "metadata": {},
   "outputs": [],
   "source": [
    "MIN_PAR_LEN = 200\n",
    "MIN_SENTENCE_LEN = 100\n",
    "PDFS_DIR = '/home/dzigen/Desktop/ITMO/ВКР/КМУ2024/data/pdfs'"
   ]
  },
  {
   "cell_type": "code",
   "execution_count": 24,
   "metadata": {},
   "outputs": [],
   "source": [
    "def get_pdfpages(pdf_path):\n",
    "    text = []\n",
    "    with fitz.open(pdf_path) as doc:\n",
    "        for page in doc:\n",
    "            for tab in page.find_tables():\n",
    "                # process the content of table 'tab'\n",
    "                page.add_redact_annot(tab.bbox)  # wrap table in a redaction annotation\n",
    "\n",
    "            for img in page.get_images():\n",
    "                # process the content of table 'tab'\n",
    "                page.delete_image(img[0]) # wrap table in a redaction annotation\n",
    "\n",
    "            page.apply_redactions()  # erase all table text\n",
    "            text.append(page.get_text(\"blocks\"))\n",
    "\n",
    "    return text\n",
    "\n",
    "def filter_pdfblocks(pages):\n",
    "    filtered_pages = []\n",
    "    for page in pages:\n",
    "        filtered_block = []\n",
    "        flag = False\n",
    "        for block in page:\n",
    "            txt = block[4]\n",
    "\n",
    "            if len(txt) >= MIN_PAR_LEN:\n",
    "                txt = txt.replace('-\\n','').replace('\\n',' ')\n",
    "\n",
    "                if txt.startswith(\"Figure\") or txt.startswith(\"Table\"):\n",
    "                    continue\n",
    "\n",
    "                sentences = list(filter(lambda x: len(x) >= MIN_SENTENCE_LEN, tokenizer.tokenize(txt)))\n",
    "                filtered_block.append(sentences)\n",
    "            \n",
    "            else:\n",
    "                if len(re.findall('references', txt.lower())) > 0:\n",
    "                    #print(\"find references!\")\n",
    "                    flag = True\n",
    "                    break\n",
    "\n",
    "        filtered_pages.append(filtered_block)\n",
    "\n",
    "        if flag:\n",
    "            break\n",
    "\n",
    "    return filtered_pages\n",
    "\n",
    "def prepare_sci_corpus(pdfs_dir):\n",
    "    pdfs = os.listdir(pdfs_dir)\n",
    "    print(pdfs)\n",
    "\n",
    "    tmp_data = []\n",
    "    for file in tqdm(pdfs):\n",
    "        print(file)\n",
    "        title = file[:-4]\n",
    "        path = f\"{pdfs_dir}/{file}\"\n",
    "\n",
    "        print(\"extracting text...\")\n",
    "        gc.collect()\n",
    "        pages_info = get_pdfpages(path)\n",
    "        gc.collect()\n",
    "        print(\"filtering text...\")\n",
    "        filtered_info = filter_pdfblocks(pages_info)\n",
    "\n",
    "        blocks = reduce(lambda acc, x: acc + x, filtered_info, [])\n",
    "        paragraphs = reduce(lambda acc, x: acc + x, blocks, [])\n",
    "\n",
    "        tmp_data += [(title, sent) for sent in paragraphs]\n",
    "\n",
    "    df = pd.DataFrame(tmp_data, columns=['title', 'text'])\n",
    "    return df"
   ]
  },
  {
   "cell_type": "code",
   "execution_count": null,
   "metadata": {},
   "outputs": [],
   "source": [
    "df = prepare_sci_corpus(PDFS_DIR)"
   ]
  },
  {
   "cell_type": "code",
   "execution_count": 27,
   "metadata": {},
   "outputs": [],
   "source": [
    "df.to_csv(\"/home/dzigen/Desktop/ITMO/ВКР/КМУ2024/data/scipdf_corpus.tsv\", sep='\\t', index=False)"
   ]
  },
  {
   "cell_type": "code",
   "execution_count": 30,
   "metadata": {},
   "outputs": [
    {
     "name": "stderr",
     "output_type": "stream",
     "text": [
      "100%|██████████| 4318/4318 [00:00<00:00, 67561.74it/s]\n"
     ]
    }
   ],
   "source": [
    "documents = []\n",
    "for i in tqdm(range(df.shape[0])):\n",
    "    base_ctx = df['title'][i] + \"\\n\"+ df['text'][i]\n",
    "    formatd_ctx = \"passage: \" + base_ctx\n",
    "\n",
    "    tmp_m = {\n",
    "        'in_base_index': i\n",
    "        }\n",
    "\n",
    "    documents.append(Document(page_content=formatd_ctx, metadata=tmp_m))"
   ]
  },
  {
   "cell_type": "code",
   "execution_count": 32,
   "metadata": {},
   "outputs": [],
   "source": [
    "pdfsci_base_path = '/home/dzigen/Desktop/ITMO/ВКР/КМУ2024/data/bases/scipdf_bm25_base.pkl'\n",
    "\n",
    "bm25_model = BM25Retriever.from_documents(documents, k=4)\n",
    "\n",
    "with open(pdfsci_base_path, 'wb') as bm25result_file:\n",
    "    pickle.dump(bm25_model, bm25result_file)"
   ]
  },
  {
   "cell_type": "code",
   "execution_count": null,
   "metadata": {},
   "outputs": [],
   "source": []
  }
 ],
 "metadata": {
  "kernelspec": {
   "display_name": "base",
   "language": "python",
   "name": "python3"
  },
  "language_info": {
   "codemirror_mode": {
    "name": "ipython",
    "version": 3
   },
   "file_extension": ".py",
   "mimetype": "text/x-python",
   "name": "python",
   "nbconvert_exporter": "python",
   "pygments_lexer": "ipython3",
   "version": "3.11.4"
  }
 },
 "nbformat": 4,
 "nbformat_minor": 2
}
