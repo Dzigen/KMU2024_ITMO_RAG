{
 "cells": [
  {
   "cell_type": "code",
   "execution_count": 1,
   "metadata": {},
   "outputs": [],
   "source": [
    "from langchain.retrievers import BM25Retriever, EnsembleRetriever\n",
    "from langchain_core.documents import Document\n",
    "import pickle\n",
    "import torch\n",
    "from transformers import T5Tokenizer\n",
    "from datasets import Dataset\n",
    "from torch.utils.data import DataLoader\n",
    "import numpy as np\n",
    "import gc\n",
    "\n",
    "import sys \n",
    "sys.path.insert(0, '/home/dzigen/Desktop/ITMO/ВКР/КМУ2024')\n",
    "\n",
    "from src.retrievers.e5 import E5Retriever"
   ]
  },
  {
   "cell_type": "markdown",
   "metadata": {},
   "source": [
    "#### E5 retirever"
   ]
  },
  {
   "cell_type": "code",
   "execution_count": 2,
   "metadata": {},
   "outputs": [],
   "source": [
    "e5_retr = E5Retriever(2)"
   ]
  },
  {
   "cell_type": "code",
   "execution_count": 3,
   "metadata": {},
   "outputs": [],
   "source": [
    "texts = [\"Russia\", 'Germany', 'France', \"USA\", \"United Kingdom\", \"Japan\", \"China\",\n",
    "        \"Italy\", \"Finland\", \"Norway\", \"Scotland\"]"
   ]
  },
  {
   "cell_type": "code",
   "execution_count": 12,
   "metadata": {},
   "outputs": [],
   "source": [
    "e5_retr.make_base(texts, \"e5_frozes_base\")\n",
    "e5_retr.load_base(\"e5_frozes_base\")\n",
    "e5_retr.search(\"Helsinki\")"
   ]
  },
  {
   "cell_type": "code",
   "execution_count": null,
   "metadata": {},
   "outputs": [],
   "source": []
  }
 ],
 "metadata": {
  "kernelspec": {
   "display_name": "base",
   "language": "python",
   "name": "python3"
  },
  "language_info": {
   "codemirror_mode": {
    "name": "ipython",
    "version": 3
   },
   "file_extension": ".py",
   "mimetype": "text/x-python",
   "name": "python",
   "nbconvert_exporter": "python",
   "pygments_lexer": "ipython3",
   "version": "3.11.4"
  }
 },
 "nbformat": 4,
 "nbformat_minor": 2
}
